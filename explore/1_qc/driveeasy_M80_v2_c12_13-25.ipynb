{
 "cells": [
  {
   "cell_type": "code",
   "execution_count": null,
   "outputs": [],
   "source": [
    "## DriveEasy exploration notebook. suitable for data for 10 min, 200Hz.\n",
    "## BIN_SIZE=50 corresponding to minimum event_distance = 0.25 sec. BIN_SIZE=25 fit for M80 better\n",
    "## Event threshold 1 pm\n",
    "%matplotlib notebook\n",
    "import numpy as np\n",
    "import pandas as pd\n",
    "import matplotlib.pyplot as plt\n",
    "import time\n",
    "import scipy.signal as signal\n",
    "\n",
    "FIBER_DISTANCE = 2.5\n",
    "SAMPLING_RATE = 200\n",
    "THRESHOLD = 0.001 # picometer\n",
    "BIN_SIZE = 25\n",
    "\n",
    "\n",
    "class Event:\n",
    "    def __init__(self):\n",
    "        self.timestamp = 0\n",
    "        self.start = 0\n",
    "        self.end = 1\n",
    "        self.speed = 0\n",
    "        self.index = 1\n",
    "        self.ch = 1\n",
    "        self.location = 1\n",
    "        self.data = {}\n",
    "        self.sensor = []\n",
    "        self.sensor_active = []\n",
    "\n",
    "    def calculate_speed(self, event_vis_list, sn=25, offset=0):\n",
    "        speed_temp = []\n",
    "        speed = 0\n",
    "        self.active_sensor = []\n",
    "#         self.speed_alg3([1,2])\n",
    "        if (self.speed > 130) or (self.speed < 50):\n",
    "            for i in self.sensor:\n",
    "                if np.max(event_vis_list[int(self.start/BIN_SIZE)-1:int(self.end/BIN_SIZE)+1, i]) > 0:\n",
    "                    self.active_sensor.append(i)\n",
    "                speed = signal.correlate(np.asarray(self.data['leading'].iloc[:, i])-self.data['leading'].iloc[0,i],\n",
    "                                         np.asarray(self.data['trailing'].iloc[:, i-offset])-self.data['trailing'].iloc[0,i-offset])\n",
    "                speed_temp.append(speed.argmax())\n",
    "            if len(speed_temp) < 1:\n",
    "                print('Speed detection error_1!')\n",
    "                self.speed = 0\n",
    "            else:\n",
    "                self.speed = -1*FIBER_DISTANCE/(np.median(speed_temp)-int(len(self.data['leading'])))*SAMPLING_RATE*3.6\n",
    "                if np.abs(self.speed)>180:\n",
    "                    print('Speed detection error_2!')\n",
    "                    self.speed_alg2(self.sensor)\n",
    "    def speed_alg2(self, active_sensor):\n",
    "        leading = np.sum(self.data['leading'].iloc[:,active_sensor], axis=1)\n",
    "        leading = np.abs(leading-leading[0])\n",
    "        trailing = np.sum(self.data['trailing'].iloc[:,active_sensor], axis=1)\n",
    "        trailing = np.abs(trailing-trailing[0])\n",
    "        pk1 = signal.find_peaks(leading, height=0.005)\n",
    "\n",
    "        pk2 = signal.find_peaks(trailing, height=0.005)\n",
    "        if np.min([len(pk1[0]),len(pk2[0])]) == 0:\n",
    "            print('Speed detection error_3!')\n",
    "            self.speed = 0\n",
    "        else:\n",
    "            self.speed = FIBER_DISTANCE/(pk2[0][0]-pk1[0][0])*SAMPLING_RATE*3.6\n",
    "        if np.abs(self.speed)>200:\n",
    "                print('Speed detection error_4!')\n",
    "                self.speed = 0\n",
    "    def speed_alg3(self, active_sensor):\n",
    "        leading = np.abs(self.data['leading'].iloc[:,active_sensor]-self.data['leading'].iloc[0,active_sensor])\n",
    "        pk1 = signal.find_peaks(leading, height=0.002)\n",
    "        trailing = np.abs(self.data['trailing'].iloc[:,active_sensor]-self.data['trailing'].iloc[0,active_sensor])\n",
    "        pk2 = signal.find_peaks(trailing, height=0.002)\n",
    "        if np.min([len(pk1[0]),len(pk2[0])]) == 0:\n",
    "            print('Speed detection error_3!')\n",
    "            self.speed = 0\n",
    "        else:\n",
    "            self.speed = FIBER_DISTANCE/(pk2[0][0]-pk1[0][0])*SAMPLING_RATE*3.6\n",
    "\n",
    "    def calculate_location(self):\n",
    "        pass\n",
    "\n",
    "    def calculate_index(self):\n",
    "        pass\n",
    "\n",
    "\n",
    "def define_baseline_alg2(data_seg, moving_ave, threshold):\n",
    "    return np.asarray(data_seg[:len(moving_ave)])-np.asarray(moving_ave) > threshold\n",
    "\n",
    "\n",
    "def define_baseline_alg1(data_seg, threshold):\n",
    "    if np.max(np.abs(data_seg - np.median(data_seg))) > threshold:\n",
    "        return 1\n",
    "    else:\n",
    "        return 0\n",
    "\n",
    "\n",
    "# define the minimum distance in time between two vehicles: BIN_SIZE\n",
    "def event_detection(data_trace, threshold=0.001, seg_length=BIN_SIZE):\n",
    "#     print('Process start')\n",
    "#     start = time.process_time_ns()\n",
    "    event_flag = []\n",
    "    for i in range(int(len(data_trace)/seg_length)):\n",
    "        event_flag.append(define_baseline_alg1(data_trace[i*seg_length:(i+1)*seg_length], threshold=threshold))\n",
    "        # event_flag = define_baseline_alg2(data_trace, moving_ave, threshold=0.001)\n",
    "#     print('Process end. Takes s: ')\n",
    "\n",
    "#     print((time.process_time_ns()-start)/1e9)\n",
    "    return event_flag\n",
    "\n",
    "\n",
    "def moving_average(data_set, periods=3):\n",
    "    weights = np.ones(periods) / periods\n",
    "    return np.convolve(data_set, weights, mode='valid')\n",
    "\n",
    "\n",
    "def de_trend(data, n_ave=200):\n",
    "    trend = moving_average(data, periods=n_ave)\n",
    "    return data[:-(n_ave - 1)] - trend"
   ],
   "metadata": {
    "collapsed": false,
    "pycharm": {
     "name": "#%%\n"
    }
   }
  },
  {
   "cell_type": "code",
   "execution_count": null,
   "outputs": [],
   "source": [
    "filename = r'C:\\Users\\qchen\\PARC\\Fibridge-PARC - Drive Easy\\AustraliaDeploy\\M80\\cleaned_data\\Video2_20201118_0923AM\\wavelength\\wav_video2-9_18AM-9_23AM_ch_3.pickle'\n",
    "filename_2 = r'C:\\Users\\qchen\\PARC\\Fibridge-PARC - Drive Easy\\AustraliaDeploy\\M80\\cleaned_data\\Video2_20201118_0923AM\\wavelength\\wav_video2-9_18AM-9_23AM_ch_4.pickle'\n",
    "\n",
    "# ## pickle\n",
    "#for pickle files\n",
    "df = pd.read_pickle(filename)\n",
    "df2 = pd.read_pickle(filename_2)\n",
    "df['timestamp']=df.index\n",
    "df2['timestamp']=df2.index\n",
    "cols = df.columns.tolist()\n",
    "cols = cols[-1:] + cols[:-1]\n",
    "df = df[cols]\n",
    "df2 = df2[cols]\n",
    "df = df.reset_index(drop=True)\n",
    "df2 = df2.reset_index(drop=True)\n",
    "\n",
    "\n",
    "\n",
    "\n",
    "\n",
    "## # npz\n",
    "# data1 = np.load(filename, allow_pickle=True)\n",
    "# data2 = np.load(filename_2, allow_pickle=True)\n",
    "\n",
    "# df = pd.DataFrame(data1['wavelength'])\n",
    "# df['sum'] = df.sum(axis=1)\n",
    "# df_time = pd.DataFrame(data1['timestamp'], columns=['timestamp'])\n",
    "# # df_time = df_time.iloc[::-1].reset_index(drop=True)  # fixed the reversed timestamp\n",
    "# df = df.join(df_time)\n",
    "\n",
    "# cols = df.columns.tolist()\n",
    "# cols = cols[-1:] + cols[:-1]\n",
    "# df = df[cols]\n",
    "\n",
    "# df2 = pd.DataFrame(data2['wavelength'])\n",
    "# df2['sum'] = df2.sum(axis=1)\n",
    "# df2_time = pd.DataFrame(data2['timestamp'], columns=['timestamp'])\n",
    "# # df2_time = df2_time.iloc[::-1].reset_index(drop=True)  # fixed the reversed timestamp\n",
    "# df2 = df2.join(df2_time, rsuffix='timestamp')\n",
    "# df2 = df2[cols]\n",
    "\n",
    "\n",
    "# # # csv\n",
    "# file1 = r'C:\\Users\\qchen\\PARC\\Fibridge-PARC - Drive Easy\\AustraliaDeploy\\Francis\\video_comparison_3_45PM\\raw_data\\extracted_data\\francis_10min_ch_1.csv'\n",
    "# file2 = r'C:\\Users\\qchen\\PARC\\Fibridge-PARC - Drive Easy\\AustraliaDeploy\\Francis\\video_comparison_3_45PM\\raw_data\\extracted_data\\francis_10min_ch_2.csv'\n",
    "# df = pd.read_csv(file1)\n",
    "# df2 = pd.read_csv(file2)"
   ],
   "metadata": {
    "collapsed": false,
    "pycharm": {
     "name": "#%%\n"
    }
   }
  },
  {
   "cell_type": "code",
   "execution_count": null,
   "outputs": [],
   "source": [
    "# exam the loaded data\n",
    "# set index of sensor to look at\n",
    "import matplotlib.dates as mdates\n",
    "\n",
    "\n",
    "k = 3\n",
    "fig = plt.figure(1)\n",
    "plt.clf()\n",
    "ax = fig.add_subplot(111)\n",
    "\n",
    "# if there is a built-in timestamp\n",
    "ax.plot(df.iloc[:40000, 0].astype('datetime64'), np.asarray(df.iloc[:40000, k])-df.iloc[0,k], label='ch_1')\n",
    "ax.plot(df2.iloc[:40000, 0].astype('datetime64'), np.asarray(df2.iloc[:40000, k])-df2.iloc[0,k], label='ch_2')\n",
    "\n",
    "# ax.xaxis.set_major_formatter(mdates.DateFormatter('%d %H-%M-%s-%f'))\n",
    "# fig.autofmt_xdate()\n",
    "\n",
    "# ax.plot(np.asarray(df.iloc[:40000, k])-df.iloc[0,k], label='ch_1')\n",
    "# ax.plot(np.asarray(df2.iloc[:40000, k])-df2.iloc[0,k], label='ch_2')\n",
    "plt.legend()\n"
   ],
   "metadata": {
    "collapsed": false,
    "pycharm": {
     "name": "#%%\n"
    }
   }
  },
  {
   "cell_type": "code",
   "execution_count": null,
   "outputs": [],
   "source": [
    "event_vis = np.zeros([11000, 25])\n",
    "\n",
    "# for j in range(25):\n",
    "#     event_vis_temp = event_detection(df.iloc[:, j], threshold=THRESHOLD)\n",
    "#     event_vis[:len(event_vis_temp), j] = np.asarray(event_vis_temp)\n",
    "#     print('Processing sensor #{}'.format(j))\n",
    "\n",
    "for j in range(25):\n",
    "#     trace_temp = de_trend(df.iloc[:, j]) # detrend or not for initial detection\n",
    "    trace_temp = df.iloc[:, j+1]\n",
    "    event_vis_temp = event_detection(trace_temp, threshold=THRESHOLD)\n",
    "    event_vis[:len(event_vis_temp), j] = np.asarray(event_vis_temp)\n",
    "    print('Processing sensor #{}'.format(j))"
   ],
   "metadata": {
    "collapsed": false,
    "pycharm": {
     "name": "#%%\n"
    }
   }
  },
  {
   "cell_type": "code",
   "execution_count": null,
   "outputs": [],
   "source": [
    "print(len(event_vis_temp))\n",
    "event_vis = event_vis[:len(event_vis_temp)]\n",
    "plt.figure(2)\n",
    "plt.clf()\n",
    "plt.title('Event detection map')\n",
    "for j in range(25):\n",
    "\n",
    "    plt.plot(event_vis[:, j] + 1*j)"
   ],
   "metadata": {
    "collapsed": false,
    "pycharm": {
     "name": "#%%\n"
    }
   }
  },
  {
   "cell_type": "code",
   "execution_count": null,
   "outputs": [],
   "source": [
    "lane_sensor = [0,1,2,3,4,5,6,7,8,9,10]  # for lane 5 on M80\n",
    "# lane_sensor= [11,12,13,14,15,16,17,18,19,20]\n",
    "\n",
    "combined_event_vis = np.sum(event_vis[:,lane_sensor], axis=1)\n",
    "combined_event_vis = combined_event_vis[:len(event_vis_temp)]\n",
    "\n",
    "plt.figure(3)\n",
    "plt.clf()\n",
    "timeseg = np.linspace(0, len(event_vis_temp)*BIN_SIZE, len(event_vis_temp))\n",
    "plt.plot(timeseg, combined_event_vis+1)\n",
    "plt.plot((np.asarray(df.iloc[:, lane_sensor[4]])-df.iloc[0,lane_sensor[4]])*1000)\n",
    "\n",
    "\n",
    "\n",
    "plt.figure(4)\n",
    "plt.clf()\n",
    "plt.plot(timeseg/SAMPLING_RATE, combined_event_vis, label='event detection by individual sensors')\n",
    "# plt.plot((timeseg/SAMPLING_RATE)[:len(event_vis_agr)], np.asarray(event_vis_agr)-1.2, label='event detection by aggregated signal')\n",
    "# plt.legend()\n",
    "peaks = signal.find_peaks(combined_event_vis, width=1)\n",
    "\n",
    "plt.plot(peaks[0]*BIN_SIZE/SAMPLING_RATE, peaks[1]['width_heights'], '*r')\n",
    "plt.ylabel('# of responding sensors')\n",
    "plt.xlabel('Time (s)')\n",
    "print(df.iloc[0,0])\n",
    "print('number of peaks{}.'.format(len(peaks[0])))"
   ],
   "metadata": {
    "collapsed": false,
    "pycharm": {
     "name": "#%%\n"
    }
   }
  },
  {
   "cell_type": "code",
   "execution_count": null,
   "outputs": [],
   "source": [
    "event_list = []\n",
    "ap_bin = 1\n",
    "\n",
    "peaks = signal.find_peaks(combined_event_vis, width=1)\n",
    "lane_sensor = [0,1,2,3,4,5,6,7,8,9,10]\n",
    "# lane_sensor= [11,12,13,14,15,16,17,18,19,20]\n",
    "for i in range(len(peaks[0])):\n",
    "    event_temp = Event()\n",
    "    event_temp.sensor = lane_sensor\n",
    "    event_temp.start = int(peaks[1]['left_bases'][i]*BIN_SIZE)\n",
    "    event_temp.end = int(peaks[1]['right_bases'][i]*BIN_SIZE)\n",
    "    if len(event_list)>0:\n",
    "        if event_temp.start < event_list[-1].end-BIN_SIZE:\n",
    "            print('overlength event #{}'.format(i))\n",
    "            continue\n",
    "    event_temp.data['leading'] = df.iloc[event_temp.start:event_temp.end+BIN_SIZE*ap_bin, 1:26]\n",
    "    event_temp.data['leading'] = event_temp.data['leading'].reset_index(drop=True)\n",
    "    event_temp.data['trailing'] = df2.iloc[event_temp.start:event_temp.end+BIN_SIZE*ap_bin, 1:26]\n",
    "    event_temp.data['trailing'] = event_temp.data['trailing'].reset_index(drop=True)\n",
    "    event_temp.data['timestamp'] = df.iloc[event_temp.start:event_temp.end+BIN_SIZE*ap_bin, 0]\n",
    "    event_temp.data['timestamp'] = event_temp.data['timestamp'].reset_index(drop=True)\n",
    "    event_temp.timestamp = df.iloc[event_temp.start, 0]\n",
    "    event_temp.calculate_speed(event_vis, sn=25, offset=0)\n",
    "    if event_temp.speed == 0:\n",
    "        print('speed error at {}'.format(i))\n",
    "        continue\n",
    "    if event_temp.speed < 0:\n",
    "        print('vehicle at opposite lane')\n",
    "        continue\n",
    "    event_temp.index = combined_event_vis[peaks[0][i]]\n",
    "    event_list.append(event_temp)\n",
    "print('Total event detected: {}'.format(len(event_list)))"
   ],
   "metadata": {
    "collapsed": false,
    "pycharm": {
     "name": "#%%\n"
    }
   }
  },
  {
   "cell_type": "code",
   "execution_count": null,
   "outputs": [],
   "source": [
    "# save png to folder\n",
    "# for j in range(len(event_list)):\n",
    "# #     print('Total:{}. Plotting #{}'.format(len(event_list), j))\n",
    "#     plt.figure(5)\n",
    "#     plt.clf()\n",
    "#     for i in lane_sensor:\n",
    "#         plt.plot(np.asarray(event_list[j].data['leading'].iloc[:,i]) - event_list[j].data['leading'].iloc[0,i] + 0.001 * i)\n",
    "#         plt.title('event #{}. Timestamp: {}. Estimated speed {:2.2f} KPH'.format(j, event_list[j].timestamp, event_list[j].speed))\n",
    "#     plt.savefig('Event#{}_ch3_first12.png'.format(j))\n",
    "#     plt.clf()\n",
    "#     for i in lane_sensor:\n",
    "#         plt.plot(np.asarray(event_list[j].data['trailing'].iloc[:,i]) - event_list[j].data['trailing'].iloc[0,i] + 0.001 * i)\n",
    "#         plt.title('event #{}. Timestamp: {}. Estimated speed {:2.2f} KPH'.format(j, event_list[j].timestamp, event_list[j].speed))\n",
    "#     plt.savefig('Event#{}_ch4_first12.png'.format(j))"
   ],
   "metadata": {
    "collapsed": false,
    "pycharm": {
     "name": "#%%\n"
    }
   }
  },
  {
   "cell_type": "code",
   "execution_count": null,
   "outputs": [],
   "source": [
    "# View extracted event trace\n",
    "# print(event_temp.data['timestamp'])\n",
    "j = 1 # event index\n",
    "print('Total:{}. Plotting #{}'.format(len(event_list), j))\n",
    "print('active sensor:{}'.format(len(event_list[j].sensor_active)))\n",
    "plt.figure(6)\n",
    "plt.clf()\n",
    "for i in event_list[j].sensor:\n",
    "#     plt.plot(event_list[j].data['timestamp'].astype('datetime64'), np.asarray(event_list[j].data['leading'].iloc[:,i]) - event_list[j].data['leading'].iloc[0,i] + 0.001 * i)\n",
    "    plt.plot(np.asarray(event_list[j].data['leading'].iloc[:,i]) - event_list[j].data['leading'].iloc[0,i] + 0.001 * i)\n",
    "    plt.title('event #{}. Timestamp: {}. Estimated speed {:2.2f} KPH'.format(j, event_list[j].timestamp, event_list[j].speed))\n",
    "\n",
    "plt.figure(7)\n",
    "plt.clf()\n",
    "for i in event_list[j].sensor:\n",
    "#     plt.plot(event_list[j].data['timestamp'].astype('datetime64'), np.asarray(event_list[j].data['trailing'].iloc[:,i]) - event_list[j].data['trailing'].iloc[0,i] + 0.001 * i)\n",
    "    plt.plot(np.asarray(event_list[j].data['trailing'].iloc[:,i]) - event_list[j].data['trailing'].iloc[0,i] + 0.001 * i)\n",
    "    plt.title('event #{}. Timestamp: {}. Estimated speed {:2.2f} KPH'.format(j, event_list[j].timestamp, event_list[j].speed))\n",
    "\n",
    "print(event_list[j].sensor)\n",
    "event_list[j].speed_alg3(0)\n",
    "print(event_list[j].speed)\n",
    "plt.figure(11)\n",
    "plt.clf()\n",
    "\n",
    "trace_temp = np.sum(event_list[j].data['leading'].iloc[:,1:2], axis=1)\n",
    "trace_temp = np.abs(trace_temp-trace_temp[0])\n",
    "peaks_temp=signal.find_peaks(trace_temp, height=0.01)\n",
    "plt.plot(trace_temp)\n",
    "plt.plot(peaks_temp[0], 0.002*np.ones(len(peaks_temp[0])),'*b')\n",
    "peaks_temp[0]\n",
    "trace_temp = np.sum(event_list[j].data['trailing'].iloc[:,1:2], axis=1)\n",
    "trace_temp = np.abs(trace_temp-trace_temp[0])\n",
    "peaks_temp=signal.find_peaks(trace_temp, height=0.01)\n",
    "plt.plot(trace_temp)\n",
    "plt.plot(peaks_temp[0], 0.002*np.ones(len(peaks_temp[0])),'*r')"
   ],
   "metadata": {
    "collapsed": false,
    "pycharm": {
     "name": "#%%\n"
    }
   }
  },
  {
   "cell_type": "code",
   "execution_count": null,
   "outputs": [],
   "source": [
    "ll = 19\n",
    "speed_valid = signal.correlate(event_list[j].data['leading'].iloc[:,ll]-event_list[j].data['leading'].iloc[0,ll], event_list[j].data['trailing'].iloc[:,ll]-event_list[j].data['trailing'].iloc[0,ll])\n",
    "speed = -1*2.5/(speed_valid.argmax()-len(event_list[j].data['leading']))*SAMPLING_RATE*3.6\n",
    "print(speed)\n",
    "plt.figure()\n",
    "plt.plot(speed_valid)"
   ],
   "metadata": {
    "collapsed": false,
    "pycharm": {
     "name": "#%%\n"
    }
   }
  },
  {
   "cell_type": "code",
   "execution_count": null,
   "outputs": [],
   "source": [
    "print('Plotting sensor #{} of event#{}'.format(k, j))\n",
    "k= 1 # sensor number\n",
    "plt.figure(8)\n",
    "plt.clf()\n",
    "plt.plot(np.asarray(event_list[j].data['leading'].iloc[:,k]) - event_list[j].data['leading'].iloc[0,k])\n",
    "plt.plot(np.asarray(event_list[j].data['trailing'].iloc[:,k]) - event_list[j].data['trailing'].iloc[0,k] + 0.002)"
   ],
   "metadata": {
    "collapsed": false,
    "pycharm": {
     "name": "#%%\n"
    }
   }
  },
  {
   "cell_type": "code",
   "execution_count": null,
   "outputs": [],
   "source": [
    "plt.figure(9)\n",
    "event_speed = [event_list[k].speed for k in range(len(event_list))]\n",
    "event_time = [event_list[k].data['timestamp'][0] for k in range(len(event_list))]\n",
    "df_time=pd.DataFrame(event_time, columns=['timestamp'])\n",
    "df_time['timestamp']=df_time['timestamp'].astype(\"datetime64\")\n",
    "\n",
    "\n",
    "plt.stem(df_time['timestamp'], event_speed, use_line_collection=True)\n",
    "plt.xticks(rotation=0)\n",
    "plt.ylabel('Speed (KPH)')\n",
    "\n",
    "plt.figure(10)\n",
    "plt.clf()\n",
    "plt.stem(event_speed, use_line_collection=True)"
   ],
   "metadata": {
    "collapsed": false,
    "pycharm": {
     "name": "#%%\n"
    }
   }
  },
  {
   "cell_type": "code",
   "execution_count": null,
   "outputs": [],
   "source": [
    "plt.figure()\n",
    "event_confid = [event_list[k].index for k in range(len(event_list))]\n",
    "plt.stem(df_time, np.ones(len(event_list)), use_line_collection=True)\n",
    "fig = plt.gca()\n",
    "plt.xticks(rotation=25)\n",
    "plt.ylabel('Vehicle detected')"
   ],
   "metadata": {
    "collapsed": false,
    "pycharm": {
     "name": "#%%\n"
    }
   }
  },
  {
   "cell_type": "code",
   "execution_count": null,
   "outputs": [],
   "source": [],
   "metadata": {
    "collapsed": false,
    "pycharm": {
     "name": "#%%\n"
    }
   }
  },
  {
   "cell_type": "code",
   "execution_count": null,
   "outputs": [],
   "source": [],
   "metadata": {
    "collapsed": false,
    "pycharm": {
     "name": "#%%\n"
    }
   }
  },
  {
   "cell_type": "code",
   "execution_count": null,
   "outputs": [],
   "source": [],
   "metadata": {
    "collapsed": false,
    "pycharm": {
     "name": "#%%\n"
    }
   }
  },
  {
   "cell_type": "code",
   "execution_count": null,
   "outputs": [],
   "source": [],
   "metadata": {
    "collapsed": false,
    "pycharm": {
     "name": "#%%\n"
    }
   }
  }
 ],
 "metadata": {
  "kernelspec": {
   "display_name": "Python 3",
   "language": "python",
   "name": "python3"
  },
  "language_info": {
   "codemirror_mode": {
    "name": "ipython",
    "version": 2
   },
   "file_extension": ".py",
   "mimetype": "text/x-python",
   "name": "python",
   "nbconvert_exporter": "python",
   "pygments_lexer": "ipython2",
   "version": "2.7.6"
  }
 },
 "nbformat": 4,
 "nbformat_minor": 0
}